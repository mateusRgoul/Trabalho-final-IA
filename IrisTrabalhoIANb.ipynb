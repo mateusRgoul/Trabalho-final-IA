{
  "cells": [
    {
      "cell_type": "code",
      "execution_count": null,
      "metadata": {
        "colab": {
          "base_uri": "https://localhost:8080/"
        },
        "id": "f-LvGCYvBWvL",
        "outputId": "fe2e10e6-677d-4797-9f0c-bc9ad3fb8524"
      },
      "outputs": [
        {
          "ename": "",
          "evalue": "",
          "output_type": "error",
          "traceback": [
            "\u001b[1;31mRunning cells with 'c:\\Users\\mateu\\AppData\\Local\\Programs\\Python\\Python311\\python.exe' requires the ipykernel package.\n",
            "\u001b[1;31mRun the following command to install 'ipykernel' into the Python environment. \n",
            "\u001b[1;31mCommand: 'c:/Users/mateu/AppData/Local/Programs/Python/Python311/python.exe -m pip install ipykernel -U --user --force-reinstall'"
          ]
        }
      ],
      "source": [
        "from sklearn import datasets\n",
        "from sklearn.model_selection import train_test_split\n",
        "from sklearn.tree import DecisionTreeClassifier\n",
        "from sklearn.neighbors import KNeighborsClassifier\n",
        "from sklearn.neural_network import MLPClassifier\n",
        "from sklearn.metrics import accuracy_score\n",
        "\n",
        "# Carregando o conjunto de dados Iris\n",
        "iris = datasets.load_iris()\n",
        "X = iris.data\n",
        "y = iris.target\n",
        "species_names = iris.target_names\n",
        "\n",
        "# Dividindo o conjunto de dados em treinamento e teste\n",
        "X_train, X_test, y_train, y_test = train_test_split(X, y, test_size=0.2, random_state=42)\n",
        "\n",
        "# Árvore de Decisão\n",
        "decision_tree = DecisionTreeClassifier()\n",
        "decision_tree.fit(X_train, y_train)\n",
        "y_pred_decision_tree = decision_tree.predict(X_test)\n",
        "\n",
        "# K-vizinhos mais próximos (k-NN)\n",
        "knn = KNeighborsClassifier()\n",
        "knn.fit(X_train, y_train)\n",
        "y_pred_knn = knn.predict(X_test)\n",
        "\n",
        "# Rede Neural Artificial (RNA)\n",
        "mlp = MLPClassifier()\n",
        "mlp.fit(X_train, y_train)\n",
        "y_pred_mlp = mlp.predict(X_test)\n"
      ]
    },
    {
      "cell_type": "code",
      "execution_count": 32,
      "metadata": {
        "colab": {
          "base_uri": "https://localhost:8080/"
        },
        "id": "G0gc1nxABfhS",
        "outputId": "711ad93c-5992-449b-81a8-8867f4d24d30"
      },
      "outputs": [
        {
          "name": "stdout",
          "output_type": "stream",
          "text": [
            "Espécie prevista: virginica\n"
          ]
        }
      ],
      "source": [
        "# Fazendo uma previsão para uma flor desconhecida por Árvore de decisão\n",
        "unknown_flower = [[6.0,3.0,4.8,1.8]]  # Características da flor desconhecida\n",
        "predicted_species = decision_tree.predict(unknown_flower)\n",
        "\n",
        "# Exibindo a espécie prevista\n",
        "species_names = iris.target_names\n",
        "predicted_species_name = species_names[predicted_species[0]]\n",
        "print(\"Espécie prevista:\", predicted_species_name)"
      ]
    },
    {
      "cell_type": "code",
      "execution_count": 39,
      "metadata": {
        "colab": {
          "base_uri": "https://localhost:8080/"
        },
        "id": "X-BJdRdibMzw",
        "outputId": "038b8f9c-35f8-466e-875f-58ebcdf18dcb"
      },
      "outputs": [
        {
          "name": "stdout",
          "output_type": "stream",
          "text": [
            "Espécie prevista: virginica\n"
          ]
        }
      ],
      "source": [
        "# Fazendo uma previsão para uma flor desconhecida por KNN\n",
        "unknown_flower = [[5.9 , 3.2 , 4.8 , 1.8]]  # Características da flor desconhecida\n",
        "predicted_species = knn.predict(unknown_flower)\n",
        "\n",
        "# Exibindo a espécie prevista\n",
        "species_names = iris.target_names\n",
        "predicted_species_name = species_names[predicted_species[0]]\n",
        "print(\"Espécie prevista:\", predicted_species_name)"
      ]
    },
    {
      "cell_type": "code",
      "execution_count": 41,
      "metadata": {
        "colab": {
          "base_uri": "https://localhost:8080/"
        },
        "id": "SeJeCEflcK4I",
        "outputId": "cdb33c16-01ca-492a-facd-e15de7086ff9"
      },
      "outputs": [
        {
          "name": "stdout",
          "output_type": "stream",
          "text": [
            "Espécie prevista: setosa\n"
          ]
        }
      ],
      "source": [
        "# Fazendo uma previsão para uma flor desconhecida por RNA\n",
        "unknown_flower = [[5.1,3.5,1.4,0.2]]  # Características da flor desconhecida\n",
        "predicted_species = mlp.predict(unknown_flower)\n",
        "\n",
        "# Exibindo a espécie prevista\n",
        "species_names = iris.target_names\n",
        "predicted_species_name = species_names[predicted_species[0]]\n",
        "print(\"Espécie prevista:\", predicted_species_name)"
      ]
    },
    {
      "cell_type": "code",
      "execution_count": null,
      "metadata": {
        "id": "6E8RkqC-cvgR"
      },
      "outputs": [],
      "source": [
        "# Exemplo: Acessando as medidas e rótulos de todas as 150 primeiras flores\n",
        "for i in range(150):\n",
        "    print(\"Flor\", i+1)\n",
        "    print(\"Medidas:\", X[i])\n",
        "    print(\"Espécie:\", species_names[y[i]])\n",
        "    print()"
      ]
    }
  ],
  "metadata": {
    "colab": {
      "provenance": []
    },
    "kernelspec": {
      "display_name": "Python 3",
      "name": "python3"
    },
    "language_info": {
      "name": "python",
      "version": "3.11.3"
    }
  },
  "nbformat": 4,
  "nbformat_minor": 0
}
